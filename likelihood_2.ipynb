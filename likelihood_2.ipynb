{
 "cells": [
  {
   "cell_type": "code",
   "execution_count": null,
   "metadata": {},
   "outputs": [],
   "source": [
    "import numpy as np\n",
    "import matplotlib.pyplot as plt"
   ]
  },
  {
   "cell_type": "code",
   "execution_count": null,
   "metadata": {},
   "outputs": [],
   "source": [
    "coins = np.array([1, 0, 1, 1, 1, 1, 0, 0, 0, 1])\n",
    "\n",
    "N = 100\n",
    "p_to_try =  np.linspace(0, 1, N)\n",
    "\n",
    "# < YOUR CODE STARTS HERE >\n",
    "# Переменная liks должна содержать значения правдоподобия для каждой из 100 вероятностей в p_to_try.\n",
    "# Переменная logliks должна содержать значения логарифма правдоподобия для каждой из 100 вероятностей в p_to_try.\n",
    "\n",
    "liks = \n",
    "logliks = \n",
    "\n",
    "# < YOUR CODE ENDS HERE >"
   ]
  }
 ],
 "metadata": {
  "kernelspec": {
   "display_name": "Python 3.9.7 ('base')",
   "language": "python",
   "name": "python3"
  },
  "language_info": {
   "name": "python",
   "version": "3.9.7"
  },
  "orig_nbformat": 4,
  "vscode": {
   "interpreter": {
    "hash": "ad2bdc8ecc057115af97d19610ffacc2b4e99fae6737bb82f5d7fb13d2f2c186"
   }
  }
 },
 "nbformat": 4,
 "nbformat_minor": 2
}
