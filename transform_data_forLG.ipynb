{
 "cells": [
  {
   "cell_type": "markdown",
   "metadata": {},
   "source": [
    "# Как использовать эти знания на практике?\n",
    "\n",
    "- Построить модель\n",
    "- вычислить метрику качества\n",
    "- выполнить преобразования\n",
    "- если метрика качества выросла, то найденную трансформацию применять ко входным данным перед тем, как подать на вход модели"
   ]
  },
  {
   "cell_type": "code",
   "execution_count": 40,
   "metadata": {},
   "outputs": [],
   "source": [
    "import numpy as np\n",
    "import pandas as pd\n",
    "import matplotlib.pyplot as plt\n",
    "from sklearn.metrics import r2_score\n",
    "\n",
    "from sklearn.linear_model import LinearRegression\n",
    "\n",
    "from sklearn.preprocessing import StandardScaler    #z-score\n",
    "from sklearn.preprocessing import MinMaxScaler  #0-1  min  max"
   ]
  },
  {
   "cell_type": "code",
   "execution_count": 41,
   "metadata": {},
   "outputs": [
    {
     "data": {
      "image/png": "[encoded data removed]",
      "text/plain": [
       "<Figure size 432x288 with 1 Axes>"
      ]
     },
     "metadata": {
      "needs_background": "light"
     },
     "output_type": "display_data"
    }
   ],
   "source": [
    "x = np.linspace(0, 14, num=14).reshape(-1, 1)   #делаем обязательно reshape для векторного вида превращаем в столбец-матрицу\n",
    "y = np.array([1.5, 3, 2.5,10, 4, 4.5, 12, 6.7, 7, 8.5, 14, 7,3, 24])\n",
    "\n",
    "plt.scatter(x, y)\n",
    "plt.show()"
   ]
  },
  {
   "cell_type": "code",
   "execution_count": 42,
   "metadata": {},
   "outputs": [
    {
     "data": {
      "text/plain": [
       "0.3512854555657736"
      ]
     },
     "execution_count": 42,
     "metadata": {},
     "output_type": "execute_result"
    }
   ],
   "source": [
    "reg = LinearRegression().fit(x, y)\n",
    "y_pred = reg.predict(x)\n",
    "\n",
    "r2_score(y, y_pred)"
   ]
  },
  {
   "cell_type": "markdown",
   "metadata": {},
   "source": [
    "Логарифмируем наши точки и посмотри теперь на влияние выбросов"
   ]
  },
  {
   "cell_type": "code",
   "execution_count": 43,
   "metadata": {},
   "outputs": [
    {
     "data": {
      "image/png": "[encoded data removed]",
      "text/plain": [
       "<Figure size 432x288 with 1 Axes>"
      ]
     },
     "metadata": {
      "needs_background": "light"
     },
     "output_type": "display_data"
    }
   ],
   "source": [
    "y_transformed = np.log(y)\n",
    "\n",
    "plt.scatter(x, y_transformed)\n",
    "plt.show()"
   ]
  },
  {
   "cell_type": "code",
   "execution_count": 44,
   "metadata": {},
   "outputs": [
    {
     "data": {
      "text/plain": [
       "0.4011866521213011"
      ]
     },
     "execution_count": 44,
     "metadata": {},
     "output_type": "execute_result"
    }
   ],
   "source": [
    "reg = LinearRegression().fit(x, y_transformed)\n",
    "\n",
    "y_pred = reg.predict(x)\n",
    "\n",
    "r2_score(y_transformed, y_pred)"
   ]
  },
  {
   "cell_type": "markdown",
   "metadata": {},
   "source": [
    "Метрика стала лучше!!\n",
    "Еще есть извлечение квадратного корня!!!"
   ]
  },
  {
   "cell_type": "markdown",
   "metadata": {},
   "source": [
    "Z-SCORE"
   ]
  },
  {
   "cell_type": "code",
   "execution_count": 45,
   "metadata": {},
   "outputs": [
    {
     "data": {
      "text/plain": [
       "array([-1.07412845, -0.81395893, -0.90068211,  0.4001655 , -0.64051258,\n",
       "       -0.55378941,  0.7470582 , -0.17220745, -0.12017354,  0.13999598,\n",
       "        1.09395089, -0.12017354, -0.81395893,  2.82841437])"
      ]
     },
     "execution_count": 45,
     "metadata": {},
     "output_type": "execute_result"
    }
   ],
   "source": [
    "transformed_data = StandardScaler().fit_transform(y.reshape(-1,1)).reshape(-1)\n",
    "transformed_data\n"
   ]
  },
  {
   "cell_type": "markdown",
   "metadata": {},
   "source": [
    "MIN-MAX scaler / normalization"
   ]
  },
  {
   "cell_type": "code",
   "execution_count": 47,
   "metadata": {},
   "outputs": [
    {
     "data": {
      "text/plain": [
       "array([0.        , 0.08695652, 0.04347826, 0.13043478, 0.04347826,\n",
       "       0.39130437, 0.04347826, 0.17391305, 0.04347826, 0.04347826,\n",
       "       0.        , 0.2608696 , 0.17391305, 0.04347826, 0.17391305,\n",
       "       0.65217394, 0.39130437, 0.08695652, 1.        ], dtype=float32)"
      ]
     },
     "execution_count": 47,
     "metadata": {},
     "output_type": "execute_result"
    }
   ],
   "source": [
    "raw_data = np.array([\n",
    "    1.,  3.,  2.,  4.,  2., 10.,  2.,  5.,  2.,  2.,  1.,  7.,  5.,  2.,  5., 16., 10.,  3.,24.],\n",
    "    dtype=np.float32\n",
    ")\n",
    "\n",
    "transformed_data_mm = MinMaxScaler().fit_transform(raw_data.reshape(-1, 1)).reshape(-1) #reshape(-1, 1) --если однафича и несколько объектов столбец вектор\n",
    "transformed_data_mm"
   ]
  }
 ],
 "metadata": {
  "interpreter": {
   "hash": "b3ba2566441a7c06988d0923437866b63cedc61552a5af99d1f4fb67d367b25f"
  },
  "kernelspec": {
   "display_name": "Python 3.9.7 ('base')",
   "language": "python",
   "name": "python3"
  },
  "language_info": {
   "codemirror_mode": {
    "name": "ipython",
    "version": 3
   },
   "file_extension": ".py",
   "mimetype": "text/x-python",
   "name": "python",
   "nbconvert_exporter": "python",
   "pygments_lexer": "ipython3",
   "version": "3.9.7"
  },
  "orig_nbformat": 4
 },
 "nbformat": 4,
 "nbformat_minor": 2
}
