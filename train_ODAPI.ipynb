{
  "nbformat": 4,
  "nbformat_minor": 0,
  "metadata": {
    "colab": {
      "provenance": []
    },
    "kernelspec": {
      "name": "python3",
      "display_name": "Python 3"
    },
    "language_info": {
      "name": "python"
    },
    "accelerator": "GPU",
    "gpuClass": "standard"
  },
  "cells": [
    {
      "cell_type": "code",
      "source": [
        "from google.colab import drive\n",
        "drive.mount('/content/drive')"
      ],
      "metadata": {
        "colab": {
          "base_uri": "https://localhost:8080/"
        },
        "id": "uLwgAzJxqdoy",
        "outputId": "de657d6f-d711-4dc1-8ba1-65580c3964b2"
      },
      "execution_count": 1,
      "outputs": [
        {
          "output_type": "stream",
          "name": "stdout",
          "text": [
            "Mounted at /content/drive\n"
          ]
        }
      ]
    },
    {
      "cell_type": "code",
      "execution_count": 2,
      "metadata": {
        "id": "ifEr3MUZqGDV"
      },
      "outputs": [],
      "source": [
        "import os\n",
        "import sys\n",
        "import numpy as np\n",
        "import tensorflow as tf\n",
        "import matplotlib.pyplot as plt"
      ]
    },
    {
      "cell_type": "code",
      "source": [
        "%cd '/content/drive/MyDrive/tf_od_demo/'"
      ],
      "metadata": {
        "colab": {
          "base_uri": "https://localhost:8080/"
        },
        "id": "RnaFlVn2qULA",
        "outputId": "97360e54-e2fd-420b-f593-dfe69aec91ae"
      },
      "execution_count": 7,
      "outputs": [
        {
          "output_type": "stream",
          "name": "stdout",
          "text": [
            "/content/drive/MyDrive/tf_od_demo\n"
          ]
        }
      ]
    },
    {
      "cell_type": "markdown",
      "source": [
        "Загрузка предобученной модели ssd_mobilnet_V1\n",
        "- ssd - детекционная архитектура\n",
        "- базовая cnn модель - mobilenetv1 - предобученная\n",
        "- обучена на датасете COCO\n"
      ],
      "metadata": {
        "id": "IUSSs_ZRqwBu"
      }
    },
    {
      "cell_type": "code",
      "source": [
        "if not os.path.isdir('ssd_mobilenet_v1_coco_2018_01_28'):\n",
        "  !wget http://download.tensorflow.org/models/object_detection/ssd_mobilenet_v1_coco_2018_01_28.tar.gz\n",
        "  if not os.path.exists('ssd_mobilenet_v1_coco_2018_01_28'):\n",
        "    !tar -xzf ssd_mobilenet_v1_coco_2018_01_28.tar.gz"
      ],
      "metadata": {
        "id": "GfEbAPY2quLD"
      },
      "execution_count": 4,
      "outputs": []
    },
    {
      "cell_type": "markdown",
      "source": [
        "#Подготовка данных для обучения\n",
        "- cube_label_map.pbtxt - файл с описанием классов\n",
        "- pipeline.config - файл, содержащий различные гиперпараметры и настройки обучения (num_classes, fine_tune_checkpoint)\n",
        "- label_map_path, input_path - в данном примере для обучения и теста используется один и тот же датасет (см блоки гиперпараметров train_input_reader, eval_input_reader)"
      ],
      "metadata": {
        "id": "DycQ3LxlsCb2"
      }
    },
    {
      "cell_type": "markdown",
      "source": [
        "#Запуск обучения\n",
        "- путь к файлу pipeline.config\n",
        "- директорию выхода обучания model_dir\n",
        "- количество итераций"
      ],
      "metadata": {
        "id": "VlZQeSFYzx1p"
      }
    },
    {
      "cell_type": "code",
      "source": [
        "#Доп код\n",
        "if not os.listdir('./models/research'):\n",
        "  os.rmdir('./models/research')\n",
        "  !git clone https://github.com/tensorflow/models\n",
        "  !cd models/research && protoc object_detection/protos/*.proto --python_out=.\n",
        "  !cd models/research $$ export PYTHONPATH=$PYTHONPATH: `pwd`:`pwd`/slim && python object_detection/builders/model_builder_test.py"
      ],
      "metadata": {
        "colab": {
          "base_uri": "https://localhost:8080/"
        },
        "id": "ipDsHjkK178R",
        "outputId": "f4cf4514-a3a3-4953-a6a0-4910aaa57b08"
      },
      "execution_count": 11,
      "outputs": [
        {
          "output_type": "stream",
          "name": "stdout",
          "text": [
            "fatal: destination path 'models' already exists and is not an empty directory.\n",
            "/bin/bash: line 0: cd: models/research: No such file or directory\n",
            "/bin/bash: line 0: cd: too many arguments\n"
          ]
        }
      ]
    },
    {
      "cell_type": "code",
      "source": [
        "%%time\n",
        "\n",
        "if not os.path.isdir('my_data/output'):\n",
        "  !export PYTHONPATH=$PYTHONPATH:models/research:models/research/slim ; python models/research/object_detection/model_main.py \\\n",
        "      --pipeline_config_path=my_data/pipeline.config \\\n",
        "      --model_dir=my_data/output \\\n",
        "      --num_train_steps=10000 \\\n",
        "      --alsologtostderr"
      ],
      "metadata": {
        "colab": {
          "base_uri": "https://localhost:8080/"
        },
        "id": "rUFbUxUDrNzS",
        "outputId": "762b419e-5145-45ea-b697-d2ae062c2622"
      },
      "execution_count": 5,
      "outputs": [
        {
          "output_type": "stream",
          "name": "stdout",
          "text": [
            "python3: can't open file 'models/research/object_detection/model_main.py': [Errno 2] No such file or directory\n",
            "CPU times: user 5.13 ms, sys: 7.16 ms, total: 12.3 ms\n",
            "Wall time: 121 ms\n"
          ]
        }
      ]
    },
    {
      "cell_type": "code",
      "source": [],
      "metadata": {
        "id": "1lR8bdik1Iif"
      },
      "execution_count": null,
      "outputs": []
    }
  ]
}