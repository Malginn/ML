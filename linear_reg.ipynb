{
 "cells": [
  {
   "cell_type": "code",
   "execution_count": 1,
   "metadata": {},
   "outputs": [],
   "source": [
    "import numpy as np\n",
    "from numpy.linalg import inv\n",
    "import matplotlib.pyplot as plt\n",
    "\n",
    "%matplotlib inline"
   ]
  },
  {
   "cell_type": "code",
   "execution_count": 2,
   "metadata": {},
   "outputs": [],
   "source": [
    "#значения площадей домов\n",
    "X = np.array([\n",
    "    [1,50],\n",
    "    [1,60],\n",
    "    [1,70],\n",
    "    [1,100]\n",
    "])"
   ]
  },
  {
   "cell_type": "code",
   "execution_count": 3,
   "metadata": {},
   "outputs": [],
   "source": [
    "#цены домов\n",
    "Y = np.array([\n",
    "    [10],\n",
    "    [30],\n",
    "    [40],\n",
    "    [50],\n",
    "])"
   ]
  },
  {
   "cell_type": "code",
   "execution_count": 4,
   "metadata": {},
   "outputs": [
    {
     "data": {
      "text/plain": [
       "array([[-17.5       ],\n",
       "       [  0.71428571]])"
      ]
     },
     "execution_count": 4,
     "metadata": {},
     "output_type": "execute_result"
    }
   ],
   "source": [
    "#формула для вычисления коэффициентов линейной регрессии\n",
    "w = inv(\n",
    "        (X.T).dot(X)\n",
    "    ).dot(\n",
    "        X.T\n",
    "    ).dot(Y)\n",
    "w"
   ]
  },
  {
   "cell_type": "code",
   "execution_count": 7,
   "metadata": {},
   "outputs": [
    {
     "data": {
      "text/plain": [
       "array([-17.5       , -16.41774892, -15.33549784, -14.25324675,\n",
       "       -13.17099567, -12.08874459, -11.00649351,  -9.92424242,\n",
       "        -8.84199134,  -7.75974026,  -6.67748918,  -5.5952381 ,\n",
       "        -4.51298701,  -3.43073593,  -2.34848485,  -1.26623377,\n",
       "        -0.18398268,   0.8982684 ,   1.98051948,   3.06277056,\n",
       "         4.14502165,   5.22727273,   6.30952381,   7.39177489,\n",
       "         8.47402597,   9.55627706,  10.63852814,  11.72077922,\n",
       "        12.8030303 ,  13.88528139,  14.96753247,  16.04978355,\n",
       "        17.13203463,  18.21428571,  19.2965368 ,  20.37878788,\n",
       "        21.46103896,  22.54329004,  23.62554113,  24.70779221,\n",
       "        25.79004329,  26.87229437,  27.95454545,  29.03679654,\n",
       "        30.11904762,  31.2012987 ,  32.28354978,  33.36580087,\n",
       "        34.44805195,  35.53030303,  36.61255411,  37.69480519,\n",
       "        38.77705628,  39.85930736,  40.94155844,  42.02380952,\n",
       "        43.10606061,  44.18831169,  45.27056277,  46.35281385,\n",
       "        47.43506494,  48.51731602,  49.5995671 ,  50.68181818,\n",
       "        51.76406926,  52.84632035,  53.92857143,  55.01082251,\n",
       "        56.09307359,  57.17532468,  58.25757576,  59.33982684,\n",
       "        60.42207792,  61.504329  ,  62.58658009,  63.66883117,\n",
       "        64.75108225,  65.83333333,  66.91558442,  67.9978355 ,\n",
       "        69.08008658,  70.16233766,  71.24458874,  72.32683983,\n",
       "        73.40909091,  74.49134199,  75.57359307,  76.65584416,\n",
       "        77.73809524,  78.82034632,  79.9025974 ,  80.98484848,\n",
       "        82.06709957,  83.14935065,  84.23160173,  85.31385281,\n",
       "        86.3961039 ,  87.47835498,  88.56060606,  89.64285714])"
      ]
     },
     "execution_count": 7,
     "metadata": {},
     "output_type": "execute_result"
    }
   ],
   "source": [
    "#задаём границы координатных осей\n",
    "margin = 10\n",
    "X_min = X[:,1].max()-margin*10\n",
    "X_max = X[:,1].min()+margin*10\n",
    "\n",
    "#набор точек, чтобы нарисовать прямую\n",
    "X_support = np.linspace(X_min, X_max, num=100)\n",
    "#предсказания нашей модели\n",
    "Y_model = w[0][0] + w[1][0]*X_support\n",
    "Y_model"
   ]
  },
  {
   "cell_type": "code",
   "execution_count": 6,
   "metadata": {},
   "outputs": [
    {
     "data": {
      "image/png": "[encoded data removed]",
      "text/plain": [
       "<Figure size 432x288 with 1 Axes>"
      ]
     },
     "metadata": {
      "needs_background": "light"
     },
     "output_type": "display_data"
    }
   ],
   "source": [
    "#рисуем исходные точки\n",
    "plt.scatter(X[:,1], Y[:,0], 40, 'g', 'o', alpha=0.8, label='Наши значения тренировочные')\n",
    "\n",
    "\n",
    "#предсказания модели\n",
    "plt.plot(X_support, Y_model, label='наши значения предсказанные')\n",
    "\n",
    "plt.legend()\n",
    "plt.show()"
   ]
  }
 ],
 "metadata": {
  "interpreter": {
   "hash": "b3ba2566441a7c06988d0923437866b63cedc61552a5af99d1f4fb67d367b25f"
  },
  "kernelspec": {
   "display_name": "Python 3.9.7 ('base')",
   "language": "python",
   "name": "python3"
  },
  "language_info": {
   "codemirror_mode": {
    "name": "ipython",
    "version": 3
   },
   "file_extension": ".py",
   "mimetype": "text/x-python",
   "name": "python",
   "nbconvert_exporter": "python",
   "pygments_lexer": "ipython3",
   "version": "3.9.7"
  },
  "orig_nbformat": 4
 },
 "nbformat": 4,
 "nbformat_minor": 2
}
