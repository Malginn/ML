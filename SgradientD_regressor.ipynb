{
 "cells": [
  {
   "cell_type": "markdown",
   "metadata": {},
   "source": [
    "# Градиентный спуск\n",
    "\n",
    "- используем когда данных много и компьютер не справится с перемножением матриц\n",
    "- когда нужно контролировать точность обучения(Итерации можно остановить на любом шаге)"
   ]
  },
  {
   "cell_type": "code",
   "execution_count": null,
   "metadata": {},
   "outputs": [],
   "source": [
    "import numpy as np\n",
    "import pandas as pd\n",
    "import matplotlib.pyplot as plt\n",
    "\n",
    "#для регрессии\n",
    "from sklearn.model_selection import train_test_split\n",
    "from sklearn.linear_model import SGDRegressor\n",
    "from sklearn.metrics import mean_squared_error\n",
    "from scipy.spatial import distance\n",
    "%matplotlib inline\n",
    "\n",
    "data = pd.read_csv('../../../../STUDY/[Skillbox] Профессия‌ ‌Data‌ ‌Scientist‌ (2020)/1 Data Scientist. ML. Начальный уровень/3.10_non_linear.csv')\n",
    "data = data[(data.x_train > 1) & (data.x_train < 5)].copy()\n",
    "\n",
    "X = data.x_train.values.reshape(-1, 1)  #превращаем в вектор столбец\n",
    "y = data.y_train.values #values - превращаем в массив нумпай\n",
    "\n",
    "X_train, X_valid, y_train, y_valid = train_test_split(X, y, test_size=0.2, random_state=10)\n",
    "# X_train\n",
    "# X"
   ]
  },
  {
   "cell_type": "markdown",
   "metadata": {},
   "source": [
    "# SGDRegressor\n",
    "- learning_rate - тип спуска(constant - самый простой)\n",
    "- eta0 - шаг в спуске\n",
    "- fit_intercept - для обучения свободных членов LR\n",
    "- random_state - прост для фиксации значений вроде"
   ]
  },
  {
   "cell_type": "code",
   "execution_count": null,
   "metadata": {},
   "outputs": [],
   "source": [
    "sgd_regressor = SGDRegressor(learning_rate='constant', eta0=0.007, fit_intercept=True, random_state=42)\n",
    "w_current = np.random.random(1)\n",
    "epsilon = 0.001\n",
    "weight_evolution = []\n",
    "rmse_evolution = []\n",
    "\n",
    "for step in range(800):\n",
    "    sgd_regressor = sgd_regressor.partial_fit(X_train, y_train)\n",
    "    weight_evolution.append(\n",
    "        distance.euclidean(w_current, sgd_regressor.coef_)  #расстояние между текущим значением коэфа и новым\n",
    "    )\n",
    "    # print(w_current.shape, sgd_regressor.coef_.shape)\n",
    "    w_current = sgd_regressor.coef_.copy()\n",
    "    if weight_evolution[-1] < epsilon:\n",
    "        print('Итерации остановлены на шаге:', step); break\n",
    "    rmse_evolution.append(\n",
    "        mean_squared_error(y_valid, sgd_regressor.predict(X_valid))\n",
    "    )\n",
    "print('last RMSE:', rmse_evolution[-1])\n",
    "\n",
    "plt.plot(range(step), rmse_evolution )  #последнее значение шага в step сохраняется\n",
    "plt.title('Изменение rmse с шагами спуска')\n",
    "plt.xlabel('Номер шага спуска')\n",
    "plt.ylabel('Значение ошибки')\n",
    "plt.show()"
   ]
  },
  {
   "cell_type": "code",
   "execution_count": null,
   "metadata": {},
   "outputs": [],
   "source": [
    "x_linspace = np.linspace(data.x_train.min(), data.x_train.max(), num=100)\n",
    "y_linspace = sgd_regressor.predict(x_linspace.reshape(-1, 1))\n",
    "\n",
    "plt.plot(x_linspace, y_linspace,label='наша модель sgd')\n",
    "\n",
    "plt.scatter(data.x_train, data.y_train, label='Значения из data', c='g')\n",
    "plt.title('Модель на фоне данных')\n",
    "plt.legend()\n",
    "plt.show()"
   ]
  }
 ],
 "metadata": {
  "interpreter": {
   "hash": "b3ba2566441a7c06988d0923437866b63cedc61552a5af99d1f4fb67d367b25f"
  },
  "kernelspec": {
   "display_name": "Python 3.9.7 ('base')",
   "language": "python",
   "name": "python3"
  },
  "language_info": {
   "codemirror_mode": {
    "name": "ipython",
    "version": 3
   },
   "file_extension": ".py",
   "mimetype": "text/x-python",
   "name": "python",
   "nbconvert_exporter": "python",
   "pygments_lexer": "ipython3",
   "version": "3.9.7"
  },
  "orig_nbformat": 4
 },
 "nbformat": 4,
 "nbformat_minor": 2
}
