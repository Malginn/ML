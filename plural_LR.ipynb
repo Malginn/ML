{
 "cells": [
  {
   "cell_type": "code",
   "execution_count": 9,
   "metadata": {},
   "outputs": [],
   "source": [
    "def ndprint(a, format_string='{0:.2f}'):\n",
    "    \"\"\"Функция, которая распечатывает список в красивом виде\"\"\"\n",
    "    return [format_string.format(v, i) for i,v in enumerate(a)]"
   ]
  },
  {
   "cell_type": "code",
   "execution_count": 11,
   "metadata": {},
   "outputs": [
    {
     "name": "stdout",
     "output_type": "stream",
     "text": [
      "Матрица Объекты Х Фичи (размерность): 506 13\n",
      "\\Целевая переменная y (размерность): 506\n"
     ]
    }
   ],
   "source": [
    "from sklearn.datasets import load_boston\n",
    "from sklearn.linear_model import LinearRegression\n",
    "from numpy.linalg import inv\n",
    "\n",
    "boston_dataset = load_boston()\n",
    "\n",
    "features = boston_dataset.data\n",
    "y = boston_dataset.target\n",
    "\n",
    "print('Матрица Объекты Х Фичи (размерность): %s %s' % features.shape)\n",
    "print('\\Целевая переменная y (размерность): %s' % y.shape)"
   ]
  },
  {
   "cell_type": "markdown",
   "metadata": {},
   "source": [
    "506 домов и 13 фичей\n",
    "\n",
    "Нужно обучить модель на 13 признаках"
   ]
  },
  {
   "cell_type": "code",
   "execution_count": 10,
   "metadata": {},
   "outputs": [
    {
     "name": "stdout",
     "output_type": "stream",
     "text": [
      "Аналитически найденные коэффициенты \n",
      "['-0.09', '0.05', '-0.00', '2.85', '-2.87', '5.93', '-0.01', '-0.97', '0.17', '-0.01', '-0.39', '0.01', '-0.42']\n"
     ]
    }
   ],
   "source": [
    "#обучаем наши коэффициенты линейной регрессии(13 фичей)\n",
    "\n",
    "#это чисто в учебных целях\n",
    "w_analytic = inv(\n",
    "    (features.T).dot(features)\n",
    ").dot(\n",
    "    features.T\n",
    ").dot(y)\n",
    "\n",
    "print('Аналитически найденные коэффициенты \\n%s' % ndprint(w_analytic))"
   ]
  },
  {
   "cell_type": "code",
   "execution_count": 17,
   "metadata": {},
   "outputs": [
    {
     "name": "stdout",
     "output_type": "stream",
     "text": [
      "Аналитически обученные коэффициенты \n",
      "['-0.11', '0.05', '0.02', '2.69', '-17.77', '3.81', '0.00', '-1.48', '0.31', '-0.01', '-0.95', '0.01', '-0.52']\n"
     ]
    }
   ],
   "source": [
    "reg = LinearRegression()\n",
    "\n",
    "reg.fit(features, y)   #функция, отвечающая за обучение\n",
    "\n",
    "#теперь внутри нашей модели находятся обученные коэффициенты\n",
    "print('Аналитически обученные коэффициенты \\n%s' % ndprint(reg.coef_))\n"
   ]
  },
  {
   "cell_type": "markdown",
   "metadata": {},
   "source": [
    "# Почти полное совпадение с нашими обученными коэффициентами из формулы"
   ]
  }
 ],
 "metadata": {
  "interpreter": {
   "hash": "b3ba2566441a7c06988d0923437866b63cedc61552a5af99d1f4fb67d367b25f"
  },
  "kernelspec": {
   "display_name": "Python 3.9.7 ('base')",
   "language": "python",
   "name": "python3"
  },
  "language_info": {
   "codemirror_mode": {
    "name": "ipython",
    "version": 3
   },
   "file_extension": ".py",
   "mimetype": "text/x-python",
   "name": "python",
   "nbconvert_exporter": "python",
   "pygments_lexer": "ipython3",
   "version": "3.9.7"
  },
  "orig_nbformat": 4
 },
 "nbformat": 4,
 "nbformat_minor": 2
}
