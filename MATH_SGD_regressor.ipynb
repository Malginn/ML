{
 "cells": [
  {
   "cell_type": "code",
   "execution_count": 173,
   "metadata": {},
   "outputs": [],
   "source": [
    "import pandas as pd\n",
    "import numpy as np\n",
    "import matplotlib.pyplot as plt\n",
    "%matplotlib inline\n",
    "\n",
    "from scipy.spatial import distance"
   ]
  },
  {
   "cell_type": "code",
   "execution_count": 174,
   "metadata": {},
   "outputs": [
    {
     "data": {
      "text/html": [
       "<div>\n",
       "<style scoped>\n",
       "    .dataframe tbody tr th:only-of-type {\n",
       "        vertical-align: middle;\n",
       "    }\n",
       "\n",
       "    .dataframe tbody tr th {\n",
       "        vertical-align: top;\n",
       "    }\n",
       "\n",
       "    .dataframe thead th {\n",
       "        text-align: right;\n",
       "    }\n",
       "</style>\n",
       "<table border=\"1\" class=\"dataframe\">\n",
       "  <thead>\n",
       "    <tr style=\"text-align: right;\">\n",
       "      <th></th>\n",
       "      <th>x_train</th>\n",
       "      <th>y_train</th>\n",
       "    </tr>\n",
       "  </thead>\n",
       "  <tbody>\n",
       "    <tr>\n",
       "      <th>5</th>\n",
       "      <td>1.182421</td>\n",
       "      <td>1.860341</td>\n",
       "    </tr>\n",
       "    <tr>\n",
       "      <th>6</th>\n",
       "      <td>1.251605</td>\n",
       "      <td>1.878928</td>\n",
       "    </tr>\n",
       "    <tr>\n",
       "      <th>7</th>\n",
       "      <td>1.270474</td>\n",
       "      <td>2.430015</td>\n",
       "    </tr>\n",
       "    <tr>\n",
       "      <th>8</th>\n",
       "      <td>1.402553</td>\n",
       "      <td>2.327856</td>\n",
       "    </tr>\n",
       "    <tr>\n",
       "      <th>9</th>\n",
       "      <td>1.427711</td>\n",
       "      <td>2.203649</td>\n",
       "    </tr>\n",
       "  </tbody>\n",
       "</table>\n",
       "</div>"
      ],
      "text/plain": [
       "    x_train   y_train\n",
       "5  1.182421  1.860341\n",
       "6  1.251605  1.878928\n",
       "7  1.270474  2.430015\n",
       "8  1.402553  2.327856\n",
       "9  1.427711  2.203649"
      ]
     },
     "execution_count": 174,
     "metadata": {},
     "output_type": "execute_result"
    }
   ],
   "source": [
    "data = pd.read_csv('../../../../STUDY/[Skillbox] Профессия‌ ‌Data‌ ‌Scientist‌ (2020)/1 Data Scientist. ML. Начальный уровень/3.10_non_linear.csv')\n",
    "data = data[(data.x_train > 1) & (data.x_train < 5)].copy()\n",
    "data.head(5)"
   ]
  },
  {
   "cell_type": "code",
   "execution_count": 175,
   "metadata": {},
   "outputs": [
    {
     "data": {
      "image/png": "[encoded data removed]",
      "text/plain": [
       "<Figure size 432x288 with 1 Axes>"
      ]
     },
     "metadata": {
      "needs_background": "light"
     },
     "output_type": "display_data"
    }
   ],
   "source": [
    "plt.scatter(data.x_train, data.y_train, c='g')\n",
    "plt.show()"
   ]
  },
  {
   "cell_type": "code",
   "execution_count": 176,
   "metadata": {},
   "outputs": [],
   "source": [
    "def gradient(X, y, w) -> np.array:\n",
    "    #кол-во примеров в обучающей выборке\n",
    "    n = X.shape[0]\n",
    "    #прогноз\n",
    "    y_pred = X.dot(w.T)\n",
    "    #вычисляем ошибку\n",
    "    error = y-y_pred\n",
    "    grad = np.multiply(X, error).sum(axis=0)*2.0*(-1.0) / n #посчитали частные производные - перев. треугольник\n",
    "    return grad, error\n",
    "\n",
    "def eval_w_next(X, y, eta, w_current, alpha):\n",
    "    #вычислить градиент\n",
    "    grad, error = gradient(X, y, w_current)\n",
    "    #шаг спуска\n",
    "    w_next = w_current - eta*grad+alpha*w_current\n",
    "    #условие сходимости\n",
    "    weight_evolution = distance.euclidean(w_current, w_next)\n",
    "    return (w_next, weight_evolution, grad, alpha)\n",
    "\n",
    "def gradient_descent(X, y, eta=0.01, epsilon=0.001, alpha=0):        #это градиент для любого количества фичей\n",
    "    m = X.shape[1] #число фичей - размерность градиента\n",
    "    w = np.random.random(m).reshape(1, -1)\n",
    "    w_next, weight_evolution, grad, alpha = eval_w_next(X, y, eta, w, alpha)\n",
    "    step=0\n",
    "    while weight_evolution > epsilon:\n",
    "        w = w_next\n",
    "        w_next, weight_evolution, grad, alpha = eval_w_next(X, y, eta, w, alpha)\n",
    "        step+=1\n",
    "        if step % 100 ==0:\n",
    "            print(\"step %s |w-w_next|=%.5f, grad=%s\" % (step, weight_evolution, grad))\n",
    "    print('last step: %s' % step)\n",
    "    return(w)\n"
   ]
  },
  {
   "cell_type": "code",
   "execution_count": 177,
   "metadata": {},
   "outputs": [
    {
     "data": {
      "text/plain": [
       "(34, 2)"
      ]
     },
     "execution_count": 177,
     "metadata": {},
     "output_type": "execute_result"
    }
   ],
   "source": [
    "X = data.x_train.values.reshape(-1, 1)  #строк по номеру последнего жлемента(сколько получится) а столбец - 1\n",
    "n = X.shape[0]\n",
    "#добавим тривиальный признак \n",
    "X = np.hstack([\n",
    "    np.ones(n).reshape(-1, 1),\n",
    "    X\n",
    "])  \n",
    "X.shape #стало два столбца т.к. мы при приделали новый столбец из единиц"
   ]
  },
  {
   "cell_type": "markdown",
   "metadata": {},
   "source": [
    "Из-за рандома алгоритм сходится к оптимальной точке за разное количество шагов"
   ]
  },
  {
   "cell_type": "code",
   "execution_count": 178,
   "metadata": {},
   "outputs": [
    {
     "name": "stdout",
     "output_type": "stream",
     "text": [
      "step 100 |w-w_next|=0.00388, grad=[-0.46633592  0.13471747]\n",
      "step 200 |w-w_next|=0.00320, grad=[-0.38375711  0.11086209]\n",
      "step 300 |w-w_next|=0.00263, grad=[-0.3158002   0.09123069]\n",
      "step 400 |w-w_next|=0.00216, grad=[-0.25987615  0.07507534]\n",
      "step 500 |w-w_next|=0.00178, grad=[-0.21385434  0.06178056]\n",
      "step 600 |w-w_next|=0.00147, grad=[-0.17598143  0.05083983]\n",
      "step 700 |w-w_next|=0.00121, grad=[-0.14481452  0.04183633]\n",
      "last step: 797\n"
     ]
    }
   ],
   "source": [
    "w = gradient_descent(X, data.y_train.values.reshape(-1, 1), eta=0.008, epsilon=0.001, alpha=0.0000001)  #сохраняем наши веса с минимальной ошибкой для предсказаний\n",
    "#регуляризация делает наш график более естественным - плавным, уменьшая коэффициенты "
   ]
  },
  {
   "cell_type": "code",
   "execution_count": 179,
   "metadata": {},
   "outputs": [],
   "source": [
    "support = np.linspace(X.min(), X.max(), num=100)\n",
    "#делаем предикт - считаем предсказания модели в каждой точке выборки в виде y=X*w\n",
    "y_hat = np.hstack([\n",
    "    np.ones(support.size).reshape(-1, 1),\n",
    "    support.reshape(-1, 1)\n",
    "]).dot(w.T) #мы добавляем единицы в столбец, чтобы можно было умножить 1 на вес и получить тем самым свободный член"
   ]
  },
  {
   "cell_type": "code",
   "execution_count": 180,
   "metadata": {},
   "outputs": [
    {
     "data": {
      "image/png": "[encoded data removed]",
      "text/plain": [
       "<Figure size 432x288 with 1 Axes>"
      ]
     },
     "metadata": {
      "needs_background": "light"
     },
     "output_type": "display_data"
    }
   ],
   "source": [
    "plt.plot(support, y_hat, 'b', label='sgd_model')\n",
    "plt.scatter(data.x_train, data.y_train, c='g', label='data')\n",
    "plt.legend()\n",
    "plt.show()"
   ]
  }
 ],
 "metadata": {
  "interpreter": {
   "hash": "b3ba2566441a7c06988d0923437866b63cedc61552a5af99d1f4fb67d367b25f"
  },
  "kernelspec": {
   "display_name": "Python 3.9.7 ('base')",
   "language": "python",
   "name": "python3"
  },
  "language_info": {
   "codemirror_mode": {
    "name": "ipython",
    "version": 3
   },
   "file_extension": ".py",
   "mimetype": "text/x-python",
   "name": "python",
   "nbconvert_exporter": "python",
   "pygments_lexer": "ipython3",
   "version": "3.9.7"
  },
  "orig_nbformat": 4
 },
 "nbformat": 4,
 "nbformat_minor": 2
}
